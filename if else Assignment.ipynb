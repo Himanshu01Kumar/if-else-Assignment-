{
 "cells": [
  {
   "cell_type": "markdown",
   "id": "09ed9b4f-bbc6-417f-bcb0-722561099c60",
   "metadata": {},
   "source": [
    "## Q1. Write a program to calculate the electricity bill  \n",
    "using only if statement? (accept number of unit from user)  \n",
    "according to the following criteria: \n",
    "Unit                                                     \n",
    "First 100 units                                              \n",
    "Price   \n",
    " no charge \n",
    "Next 100 units                                              \n",
    "Rs 5 per unit \n",
    "After 200 units                                             \n",
    "Rs 10 per unit \n",
    "(For example, if input unit is 350 than total bill amount is Rs2000). Lets explain… \n",
    "For first 100 no charges \n",
    "Now you have 250 unit remaining \n",
    "100-200 you need to pay – 100*5 = 500 \n",
    "Now 200-100 you need to pay 150*10 = 1500 \n",
    "Total = 500+1500 = 2000"
   ]
  },
  {
   "cell_type": "code",
   "execution_count": 21,
   "id": "e976e858-f239-44b4-8d74-0eec3d757327",
   "metadata": {},
   "outputs": [
    {
     "name": "stdin",
     "output_type": "stream",
     "text": [
      "Enter the number of units consumed:  350\n"
     ]
    },
    {
     "name": "stdout",
     "output_type": "stream",
     "text": [
      "2000\n"
     ]
    }
   ],
   "source": [
    "units = int(input(\"Enter the number of units consumed: \"))\n",
    "\n",
    "total_bill = 0\n",
    "\n",
    "if units <= 100:\n",
    "    total_bill = 0 \n",
    "if units > 100 and units <= 200:\n",
    "    chargeable_units = units - 100\n",
    "    total_bill = chargeable_units * 5\n",
    "if units > 200:\n",
    "    total_bill += 100 * 5  # Cost for units 101-200\n",
    "    \n",
    "    remaining_units = units - 200\n",
    "    total_bill += remaining_units * 10\n",
    "\n",
    "print(total_bill)"
   ]
  },
  {
   "cell_type": "markdown",
   "id": "18c2f210-a5f7-4afc-8184-34cd65e01a2c",
   "metadata": {},
   "source": [
    "## percentage = int(input(\"Enter student percentage: \"))\n",
    "\n",
    "if percentage > 90:\n",
    "    print(\"Grade: A\")\n",
    "if percentage > 80 and percentage <= 90:\n",
    "    print(\"Grade: B\")\n",
    "if percentage >= 60 and percentage <= 80:\n",
    "    print(\"Grade: C\")\n",
    "if percentage >= 33 and percentage < 60:\n",
    "    print(\"Grade: D\")\n",
    "else:\n",
    "    print(\"Fail\")Q2. Write a program to accept percentage from the user and display  \n",
    "the grade according to the following criteria: \n",
    "MarksGrade \n",
    "> 90 A\n",
    "> 80 and <= 90  B\n",
    ">= 60 and <= 80 C\n",
    "below 60 D"
   ]
  },
  {
   "cell_type": "code",
   "execution_count": 20,
   "id": "3db8994d-9458-475b-944e-d56e68c61b42",
   "metadata": {},
   "outputs": [
    {
     "name": "stdin",
     "output_type": "stream",
     "text": [
      "Enter student percentage:  92\n"
     ]
    },
    {
     "name": "stdout",
     "output_type": "stream",
     "text": [
      "Grade: A\n",
      "excellent\n"
     ]
    }
   ],
   "source": [
    "percentage = int(input(\"Enter student percentage: \"))\n",
    "\n",
    "if percentage > 90:\n",
    "    print(\"Grade: A\")\n",
    "if percentage > 80 and percentage <= 90:\n",
    "    print(\"Grade: B\")\n",
    "if percentage >= 60 and percentage <= 80:\n",
    "    print(\"Grade: C\")\n",
    "if percentage >= 33 and percentage < 60:\n",
    "    print(\"Grade: D\")\n",
    "else:\n",
    "    print(\"excellent\")"
   ]
  },
  {
   "cell_type": "markdown",
   "id": "fd78a1ee-0110-4365-bb3f-fa30dfb7f29b",
   "metadata": {},
   "source": [
    "### Q3. Accept the age of 4 people and display the youngest one?"
   ]
  },
  {
   "cell_type": "code",
   "execution_count": 27,
   "id": "bd352459-96b1-4a33-99c6-49f949f9da74",
   "metadata": {},
   "outputs": [
    {
     "name": "stdin",
     "output_type": "stream",
     "text": [
      "Enter 1st age:  22\n",
      "Enter 2nd age:  32\n",
      "Enter 3rd age:  44\n",
      "Enter 4th age:  56\n"
     ]
    },
    {
     "name": "stdout",
     "output_type": "stream",
     "text": [
      "Youngest is:  22\n"
     ]
    }
   ],
   "source": [
    "age1 = int(input(\"Enter 1st age: \"))\n",
    "age2 = int(input(\"Enter 2nd age: \"))\n",
    "age3 = int(input(\"Enter 3rd age: \"))\n",
    "age4 = int(input(\"Enter 4th age: \"))\n",
    "\n",
    "\n",
    "youngest = age1\n",
    "\n",
    "if age2 < youngest:\n",
    "    youngest = age2\n",
    "\n",
    "if age3 < youngest:\n",
    "    youngest = age3\n",
    "\n",
    "if age4 < youngest:\n",
    "    youngest = age4\n",
    "\n",
    "print(\"Youngest is: \", youngest)\n"
   ]
  },
  {
   "cell_type": "markdown",
   "id": "c1183ceb-6f68-4a68-97ca-ba82e8c4750f",
   "metadata": {},
   "source": [
    "## Q4. A company decided to give bonus to employee  \n",
    "according to following criteria: \n",
    "Time period of Service                \n",
    "More than 10 years                      \n",
    "Bonus \n",
    ">=6 and <=10                                \n",
    " 10% \n",
    "8% \n",
    "Less than 6 years                            \n",
    "5% \n",
    "Ask user for their salary and years of service and print the  \n",
    "net bonus amount?"
   ]
  },
  {
   "cell_type": "code",
   "execution_count": 57,
   "id": "0eaf82a7-48b3-4ebf-9b16-8bf4b82a24ed",
   "metadata": {},
   "outputs": [
    {
     "name": "stdin",
     "output_type": "stream",
     "text": [
      "Enter your salary:  150\n",
      "Enter your years of service:  8\n"
     ]
    },
    {
     "name": "stdout",
     "output_type": "stream",
     "text": [
      "Net bonus amount: ₹ 12.0\n"
     ]
    }
   ],
   "source": [
    "salary = int(input(\"Enter your salary: \"))\n",
    "years_of_service = int(input(\"Enter your years of service: \"))\n",
    "\n",
    "\n",
    "if years_of_service >10:\n",
    "    bonus = salary * 0.10  \n",
    "    \n",
    "if 6 <= years_of_service <= 10:\n",
    "    bonus = salary * 0.08\n",
    "    \n",
    "else:\n",
    "    bonus = salary * 0.05\n",
    "\n",
    "\n",
    "print(\"Net bonus amount: ₹\", bonus)\n"
   ]
  },
  {
   "cell_type": "markdown",
   "id": "d1817f15-bb46-4e47-89bf-3fd5656d7d30",
   "metadata": {},
   "source": [
    "## Q5. Accept three numbers from the user and  \n",
    "display the second largest number?"
   ]
  },
  {
   "cell_type": "code",
   "execution_count": 13,
   "id": "0daefb8c-497c-401e-809b-104bfb9c419a",
   "metadata": {},
   "outputs": [
    {
     "name": "stdin",
     "output_type": "stream",
     "text": [
      "Enter the 1st number:  10\n",
      "Enter the 2nd number:  12\n",
      "Enter the 3rd number:  9\n"
     ]
    },
    {
     "name": "stdout",
     "output_type": "stream",
     "text": [
      "The second largest number is: 10\n"
     ]
    }
   ],
   "source": [
    "num1 = int(input(\"Enter the 1st number: \"))\n",
    "num2 = int(input(\"Enter the 2nd number: \"))\n",
    "num3 = int(input(\"Enter the 3rd number: \"))\n",
    "\n",
    "numbers = [num1, num2, num3]\n",
    "\n",
    "numbers.sort()\n",
    "\n",
    "print(\"The second largest number is:\", numbers[1])\n"
   ]
  },
  {
   "cell_type": "markdown",
   "id": "839fc5bc-3f5a-4f8c-a875-057f297ca0a1",
   "metadata": {},
   "source": [
    "## Q6. Accept the marked price from the user and calculate  \n",
    "the Net amount as (Marked Price –    Discount) to pay  \n",
    "according to following criteria: \n",
    "Marked Price    \n",
    ">10000                          \n",
    "Discount \n",
    "20% \n",
    ">7000 and <=10000            \n",
    "15% \n",
    "<=7000                          \n",
    "10%"
   ]
  },
  {
   "cell_type": "code",
   "execution_count": 14,
   "id": "5bcdb3a6-1ad9-46eb-9f07-03cabb8ef681",
   "metadata": {},
   "outputs": [
    {
     "name": "stdin",
     "output_type": "stream",
     "text": [
      "Enter the marked price:  4000\n"
     ]
    },
    {
     "name": "stdout",
     "output_type": "stream",
     "text": [
      "Discount Amount: 400.0\n",
      "Customer: 3600.0\n"
     ]
    }
   ],
   "source": [
    "marked_price = int(input(\"Enter the marked price: \"))\n",
    "\n",
    "if marked_price > 10000:\n",
    "    discount = 0.20 * marked_price\n",
    "elif marked_price > 7000 and marked_price <= 10000:\n",
    "    discount = 0.15 * marked_price\n",
    "else:\n",
    "    discount = 0.10 * marked_price\n",
    "\n",
    "\n",
    "net_amount = marked_price - discount\n",
    "\n",
    "print(\"Discount Amount:\", discount)\n",
    "print(\"Customer:\",net_amount )"
   ]
  },
  {
   "cell_type": "markdown",
   "id": "dbfc7a9d-0484-4e41-b940-11e57820d84c",
   "metadata": {},
   "source": [
    "## Q7. Accept the marks of English, Math and Science,  \n",
    "Social Studies Subject and display the stream allotted  \n",
    "according to following: \n",
    "All Subjects more than 80 marks      \n",
    "—                 \n",
    "Science Stream \n",
    "English >80 and Math, Science above 50   —      Commerce Stream \n",
    "English > 80 and social studies > 80    —               \n",
    "Humanities"
   ]
  },
  {
   "cell_type": "markdown",
   "id": "e029d07d-42ac-4d53-8cdf-d376ae96f378",
   "metadata": {},
   "source": [
    "## Q8. Write a program to display \"Hello\" if a number enteredby user is a multiple of five, otherwise print \"Bye\"?"
   ]
  },
  {
   "cell_type": "code",
   "execution_count": 19,
   "id": "1ed06579-c4dc-440e-8019-967ffc36ff15",
   "metadata": {},
   "outputs": [
    {
     "name": "stdin",
     "output_type": "stream",
     "text": [
      "Enter your number 25\n"
     ]
    },
    {
     "name": "stdout",
     "output_type": "stream",
     "text": [
      "Hello\n"
     ]
    }
   ],
   "source": [
    "number = int(input(\"Enter your number\"))\n",
    "\n",
    "if number%5 == 0:\n",
    "    print(\"Hello\")\n",
    "else:\n",
    "    print(\"Byee\")\n"
   ]
  },
  {
   "cell_type": "markdown",
   "id": "c5247162-da21-44f0-a540-03fc552e9a06",
   "metadata": {},
   "source": [
    "## Q9. Write a program to check whether the last digit of a number (entered by user) is divisible by 3 or not?"
   ]
  },
  {
   "cell_type": "code",
   "execution_count": 22,
   "id": "d16ad24d-53ec-4d67-9f1e-e97cb2c2c530",
   "metadata": {},
   "outputs": [
    {
     "ename": "SyntaxError",
     "evalue": "unterminated string literal (detected at line 8) (2367962287.py, line 8)",
     "output_type": "error",
     "traceback": [
      "\u001b[1;36m  Cell \u001b[1;32mIn[22], line 8\u001b[1;36m\u001b[0m\n\u001b[1;33m    print(\"The last digit of number is not divisble by 3)\u001b[0m\n\u001b[1;37m          ^\u001b[0m\n\u001b[1;31mSyntaxError\u001b[0m\u001b[1;31m:\u001b[0m unterminated string literal (detected at line 8)\n"
     ]
    }
   ],
   "source": [
    "number = int(input(\"Enter your number\"))\n",
    "\n",
    "last_digit = number%10\n",
    "\n",
    "if last_digit % 3 == 0:\n",
    "    print(\"The last digit of number is divisble by 3:\")\n",
    "else:\n",
    "    print(\"The last digit of number is not divisble by 3)"
   ]
  },
  {
   "cell_type": "code",
   "execution_count": null,
   "id": "1dec03ca-c584-47fc-8f4c-9339ffe43c83",
   "metadata": {},
   "outputs": [],
   "source": []
  }
 ],
 "metadata": {
  "kernelspec": {
   "display_name": "Python 3 (ipykernel)",
   "language": "python",
   "name": "python3"
  },
  "language_info": {
   "codemirror_mode": {
    "name": "ipython",
    "version": 3
   },
   "file_extension": ".py",
   "mimetype": "text/x-python",
   "name": "python",
   "nbconvert_exporter": "python",
   "pygments_lexer": "ipython3",
   "version": "3.13.5"
  }
 },
 "nbformat": 4,
 "nbformat_minor": 5
}
